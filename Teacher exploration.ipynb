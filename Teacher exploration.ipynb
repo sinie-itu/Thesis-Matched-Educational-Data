{
 "cells": [
  {
   "cell_type": "markdown",
   "id": "6b4ec107",
   "metadata": {},
   "source": [
    "### Explore the competencies of teachers\n",
    "Here we look at the competencies of teachers, which specific subjects are they trained in, do they have pedagogical comps. "
   ]
  },
  {
   "cell_type": "code",
   "execution_count": null,
   "id": "c88a3e01",
   "metadata": {},
   "outputs": [],
   "source": [
    "import pandas as pd\n",
    "import numpy as np\n",
    "import matplotlib.pyplot as plt\n",
    "import sas7bdat\n",
    "import seaborn as sns\n",
    "\n",
    "import matplotlib as mpl\n",
    "\n",
    "mpl.style.use('seaborn-whitegrid')  # Use 'seaborn-whitegrid' instead of 'ggplot'\n",
    "\n",
    "mpl.rcParams['font.family'] = 'serif'\n",
    "mpl.rcParams['font.size'] = 14\n",
    "mpl.rcParams['axes.labelsize'] = 14\n",
    "mpl.rcParams['axes.titlesize'] = 16\n",
    "mpl.rcParams['xtick.labelsize'] = 14\n",
    "mpl.rcParams['ytick.labelsize'] = 14\n",
    "mpl.rcParams['axes.titleweight'] = 'bold'\n",
    "mpl.rcParams['axes.spines.top'] = False\n",
    "mpl.rcParams['axes.spines.right'] = False\n",
    "mpl.rcParams['axes.prop_cycle'] = plt.cycler('color', plt.cm.Set1.colors)\n",
    "\n",
    "plt.rcParams['figure.figsize'] = [10, 6]\n",
    "plt.rcParams['figure.dpi'] = 200\n",
    "plt.rcParams['savefig.dpi'] = 300\n",
    "plt.rcParams['figure.facecolor'] = '#f8f8f8'\n",
    "\n",
    "pd.set_option('display.max_columns', None)"
   ]
  },
  {
   "cell_type": "code",
   "execution_count": null,
   "id": "b462ce87",
   "metadata": {},
   "outputs": [],
   "source": [
    "#Get competency describtions with courses\n",
    "filepath='../data/komp_koder.xlsx'\n",
    "komp=pd.read_excel(filepath)"
   ]
  },
  {
   "cell_type": "code",
   "execution_count": null,
   "id": "ff5b8d29",
   "metadata": {},
   "outputs": [],
   "source": [
    "#Get competencies\n",
    "filepath='../data/macom_kompetencer.sas7bdat'\n",
    "df =pd.read_sas(filepath, format='sas7bdat',encoding='iso-8859-1')"
   ]
  },
  {
   "cell_type": "code",
   "execution_count": null,
   "id": "5eb828e3",
   "metadata": {},
   "outputs": [],
   "source": [
    "#Map short description of comps to the actual meaning\n",
    "map={\n",
    "    'U':'Subject + Pedagogical',\n",
    "    \"F\":'Subject',\n",
    "    \"P\":'Pedagogical',\n",
    "    \"I\":'No formal'\n",
    "}\n",
    "\n",
    "df['KompetenceNiveau']=df['KompetenceNiveau'].astype(str)\n",
    "\n",
    "\n",
    "df['KompetenceNiveau']=df['KompetenceNiveau'].map(map)"
   ]
  },
  {
   "cell_type": "code",
   "execution_count": null,
   "id": "17affbc3",
   "metadata": {},
   "outputs": [],
   "source": [
    "#Get the course for the competency codes.\n",
    "komp=(komp.groupby('Kompetencekode',sort=False)\n",
    "              .agg(**{'fag': ('Fag','first')})\n",
    "              .reset_index()\n",
    "              )"
   ]
  },
  {
   "cell_type": "code",
   "execution_count": null,
   "id": "4dc2d60f",
   "metadata": {},
   "outputs": [],
   "source": [
    "# Get how many teachers per competency level\n",
    "fun = (df.groupby('KompetenceNiveau', sort=False)\n",
    "       .agg(**{'teachers': ('laerer_id', 'count')})\n",
    "       .reset_index()\n",
    "       ).sort_values('teachers', ascending=False)\n",
    "\n",
    "x = fun['KompetenceNiveau']\n",
    "y = fun['teachers']\n",
    "\n",
    "fig, ax = plt.subplots(figsize=(16, 8))\n",
    "\n",
    "# Create a bar plot to show the count of teachers for each competency level\n",
    "ax.bar(x, y, color='steelblue')\n",
    "\n",
    "ax.set_xlabel('Competency Level')\n",
    "ax.set_ylabel('Count of teachers with specific competencies')\n",
    "ax.set_title('Showing the different levels of competencies that teachers have')\n",
    "\n",
    "plt.tight_layout()\n",
    "\n",
    "# Save the data as a pickle file\n",
    "fun.to_pickle('figures/teacher_comp.pkl')\n",
    "\n",
    "# Save the figure as a PDF file\n",
    "plt.savefig('figures/competency_levels.pdf')\n",
    "\n",
    "plt.show()"
   ]
  },
  {
   "cell_type": "code",
   "execution_count": null,
   "id": "87a62e78",
   "metadata": {},
   "outputs": [],
   "source": [
    "# Create a merge with competencies and code descriptions\n",
    "new = pd.merge(df, komp, left_on='KompetenceKode', right_on='Kompetencekode', how='left')\n",
    "\n",
    "# Group teachers by subject and count the number of teachers\n",
    "fun = (new.groupby('fag', sort=False)\n",
    "       .agg(**{'teachers': ('laerer_id', 'count')})\n",
    "       .reset_index()\n",
    "      )\n",
    "\n",
    "# Select the top 10 subjects with the highest number of teachers\n",
    "test = fun.sort_values('teachers', ascending=False).head(10)\n",
    "\n",
    "# Convert the subject column to string type\n",
    "test['fag'] = test['fag'].astype(str)\n",
    "\n",
    "# Map English translations of subject descriptions\n",
    "map = {\n",
    "    'Dansk': 'Danish',\n",
    "    'Engelsk': 'English',\n",
    "    'Matematik': 'Mathematics',\n",
    "    'Idræt': 'Physical Education',\n",
    "    'KS - Samfundsfag': 'Social Studies',\n",
    "    'Fysik': 'Physics',\n",
    "    'Biologi': 'Biology',\n",
    "    'Kemi': 'Chemistry',\n",
    "    'Tysk begynder': 'Beginners German',\n",
    "    'KS - Religion': 'Religion Studies'\n",
    "}\n",
    "\n",
    "test['fag'] = test['fag'].map(map)\n",
    "\n",
    "fig, ax = plt.subplots(figsize=(16, 8))\n",
    "\n",
    "x = test['fag']\n",
    "y = test['teachers']\n",
    "ax.bar(x, y, color='steelblue')\n",
    "\n",
    "ax.set_xlabel('Subject')\n",
    "ax.set_ylabel('Count of teachers with competencies in subjects')\n",
    "ax.set_title('Subjects with Most Teachers Having Classified Competencies')\n",
    "\n",
    "# Split x-tick labels at spaces for better readability\n",
    "x_labels = [label.replace(' ', '\\n') for label in x]\n",
    "ax.set_xticklabels(x_labels)\n",
    "\n",
    "plt.tight_layout()\n",
    "\n",
    "# Save the data as a pickle file\n",
    "test.to_pickle('figures/teacher_comp.pkl')\n",
    "\n",
    "# Save the figure as a PDF file\n",
    "plt.savefig('figures/teacher_comp.pdf')\n",
    "\n",
    "plt.show()"
   ]
  },
  {
   "cell_type": "code",
   "execution_count": null,
   "id": "9af0fa9e",
   "metadata": {},
   "outputs": [],
   "source": []
  },
  {
   "cell_type": "code",
   "execution_count": null,
   "id": "528d7c05",
   "metadata": {},
   "outputs": [],
   "source": []
  },
  {
   "cell_type": "code",
   "execution_count": null,
   "id": "3113f369",
   "metadata": {},
   "outputs": [],
   "source": []
  },
  {
   "cell_type": "code",
   "execution_count": null,
   "id": "e74543b1",
   "metadata": {},
   "outputs": [],
   "source": []
  },
  {
   "cell_type": "code",
   "execution_count": null,
   "id": "2b2b3680",
   "metadata": {},
   "outputs": [],
   "source": []
  }
 ],
 "metadata": {
  "kernelspec": {
   "display_name": "Python 3 (ipykernel)",
   "language": "python",
   "name": "python3"
  },
  "language_info": {
   "codemirror_mode": {
    "name": "ipython",
    "version": 3
   },
   "file_extension": ".py",
   "mimetype": "text/x-python",
   "name": "python",
   "nbconvert_exporter": "python",
   "pygments_lexer": "ipython3",
   "version": "3.9.16"
  }
 },
 "nbformat": 4,
 "nbformat_minor": 5
}
