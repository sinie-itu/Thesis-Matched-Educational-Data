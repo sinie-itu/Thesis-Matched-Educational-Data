{
 "cells": [
  {
   "cell_type": "markdown",
   "id": "7bc6e4e8",
   "metadata": {},
   "source": [
    "### Exploration of the income of parents\n",
    "Look at mothers and fathers income "
   ]
  },
  {
   "cell_type": "code",
   "execution_count": null,
   "id": "b5c4de04",
   "metadata": {},
   "outputs": [],
   "source": [
    "import pandas as pd\n",
    "import sas7bdat\n",
    "import numpy as np\n",
    "import matplotlib.pyplot as plt\n",
    "import seaborn as sns\n",
    "\n",
    "import matplotlib as mpl\n",
    "\n",
    "mpl.style.use('seaborn-whitegrid')  # Use 'seaborn-whitegrid' instead of 'ggplot'\n",
    "\n",
    "mpl.rcParams['font.family'] = 'serif'\n",
    "mpl.rcParams['font.size'] = 14\n",
    "mpl.rcParams['axes.labelsize'] = 14\n",
    "mpl.rcParams['axes.titlesize'] = 16\n",
    "mpl.rcParams['xtick.labelsize'] = 14\n",
    "mpl.rcParams['ytick.labelsize'] = 14\n",
    "mpl.rcParams['axes.titleweight'] = 'bold'\n",
    "mpl.rcParams['axes.spines.top'] = False\n",
    "mpl.rcParams['axes.spines.right'] = False\n",
    "mpl.rcParams['axes.prop_cycle'] = plt.cycler('color', plt.cm.Set1.colors)\n",
    "\n",
    "plt.rcParams['figure.figsize'] = [10, 6]\n",
    "plt.rcParams['figure.dpi'] = 200\n",
    "plt.rcParams['savefig.dpi'] = 300\n",
    "plt.rcParams['figure.facecolor'] = '#f8f8f8'\n",
    "\n",
    "pd.set_option('display.max_columns', None)"
   ]
  },
  {
   "cell_type": "code",
   "execution_count": null,
   "id": "b67fad43",
   "metadata": {},
   "outputs": [],
   "source": [
    "filepath='../data/socio.sas7bdat'\n",
    "socio =pd.read_sas(filepath, format='sas7bdat')"
   ]
  },
  {
   "cell_type": "code",
   "execution_count": null,
   "id": "9c2e0709",
   "metadata": {},
   "outputs": [],
   "source": [
    "filepath='../data/umo_uddannelser.sas7bdat'\n",
    "udd=pd.read_sas(filepath, format='sas7bdat')"
   ]
  },
  {
   "cell_type": "code",
   "execution_count": null,
   "id": "d0aced2d",
   "metadata": {},
   "outputs": [],
   "source": [
    "# Find outliers with the z-score threshold for mother and father income\n",
    "test['z_mother'] = np.abs((test['mor_brutto'] - test['mor_brutto'].mean()) / test['mor_brutto'].std())\n",
    "test['z_father'] = np.abs((test['far_brutto'] - test['far_brutto'].mean()) / test['far_brutto'].std())\n",
    "\n",
    "# Remove outliers and NaN values from mother and father income\n",
    "new = test.loc[~test['far_brutto'].isna()]\n",
    "new = new.loc[~new['mor_brutto'].isna()]\n",
    "\n",
    "z_threshold = 2\n",
    "\n",
    "# Filter the data based on z-score thresholds\n",
    "df = new[new['z_father'] <= z_threshold].reset_index(drop=True)\n",
    "df = df[df['z_mother'] <= z_threshold].reset_index(drop=True)\n",
    "\n",
    "x = df['far_brutto']\n",
    "y = df['mor_brutto']\n",
    "\n",
    "fig, ax = plt.subplots(figsize=(16, 8))\n",
    "\n",
    "sns.histplot(x, color='steelblue', label='Income Father: Mean={:.2f}, Median={:.2f}, Standard Deviation={:.2f}'.format(*socio['far_brutto'].describe()[['mean', '50%', 'std']]), bins=50)\n",
    "sns.histplot(y, label='Income Mother: Mean={:.2f}, Median={:.2f}, Standard Deviation={:.2f}'.format(*test['far_brutto'].describe()[['mean', '50%', 'std']]), bins=50)\n",
    "\n",
    "ax.set_xlabel('Income of parents in millions')\n",
    "ax.set_ylabel('Count of students in income bucket')\n",
    "ax.set_title('Distribution of Income for Mother and Father in Millions')\n",
    "plt.legend()\n",
    "plt.tight_layout()\n",
    "\n",
    "# Save the data as a pickle file\n",
    "test.to_pickle('figures/mom_and_dad_income.pkl')\n",
    "\n",
    "# Save the figure as a PDF file\n",
    "plt.savefig('figures/mom_and_dad_income.pdf')\n",
    "\n",
    "plt.show()"
   ]
  }
 ],
 "metadata": {
  "kernelspec": {
   "display_name": "Python 3 (ipykernel)",
   "language": "python",
   "name": "python3"
  },
  "language_info": {
   "codemirror_mode": {
    "name": "ipython",
    "version": 3
   },
   "file_extension": ".py",
   "mimetype": "text/x-python",
   "name": "python",
   "nbconvert_exporter": "python",
   "pygments_lexer": "ipython3",
   "version": "3.9.16"
  }
 },
 "nbformat": 4,
 "nbformat_minor": 5
}
