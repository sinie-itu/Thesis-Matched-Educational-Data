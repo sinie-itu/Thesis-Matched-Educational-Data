{
 "cells": [
  {
   "cell_type": "markdown",
   "id": "2090958f",
   "metadata": {},
   "source": [
    "### Prepare group based factors to be used in matching experiment\n",
    "\n",
    "We look at group diversity, size, difference in socio-economic status etc."
   ]
  },
  {
   "cell_type": "code",
   "execution_count": null,
   "id": "f6979c79",
   "metadata": {},
   "outputs": [],
   "source": [
    "import pandas as pd\n",
    "import numpy as np\n",
    "import matplotlib.pyplot as plt\n",
    "import sas7bdat\n",
    "import seaborn as sns\n",
    "from sklearn.linear_model import LinearRegression\n",
    "from sklearn.model_selection import train_test_split\n",
    "from sklearn.metrics import r2_score\n",
    "from sklearn.preprocessing import MinMaxScaler\n",
    "import statsmodels.api as sm\n",
    "import statsmodels.formula.api as smf\n",
    "\n",
    "from scipy.spatial.distance import pdist, squareform\n",
    "from scipy.stats import zscore"
   ]
  },
  {
   "cell_type": "code",
   "execution_count": null,
   "id": "2a9da47f",
   "metadata": {},
   "outputs": [],
   "source": [
    "import matplotlib as mpl\n",
    "\n",
    "mpl.style.use('ggplot')\n",
    "\n",
    "mpl.rcParams['font.family'] = 'serif'\n",
    "mpl.rcParams['font.size'] = 14\n",
    "mpl.rcParams['axes.labelsize'] = 13\n",
    "mpl.rcParams['axes.titlesize'] = 16\n",
    "mpl.rcParams['xtick.labelsize'] = 11\n",
    "mpl.rcParams['ytick.labelsize'] = 11\n",
    "mpl.rcParams['axes.titleweight'] = 'bold'\n",
    "mpl.rcParams['axes.spines.top'] = False\n",
    "mpl.rcParams['axes.spines.right'] = False\n",
    "mpl.rcParams['axes.prop_cycle'] = plt.cycler('color', plt.cm.Set1.colors)\n",
    "\n",
    "plt.rcParams['figure.figsize'] = [10, 6]\n",
    "plt.rcParams['figure.dpi'] = 200\n",
    "plt.rcParams['savefig.dpi'] = 300\n",
    "plt.rcParams['figure.facecolor'] = '#f8f8f8'"
   ]
  },
  {
   "cell_type": "code",
   "execution_count": null,
   "id": "d4ca2a9b",
   "metadata": {},
   "outputs": [],
   "source": [
    "#Read DF with student group information\n",
    "elev_hold = pd.read_pickle('../Data/elevhold.pkl')\n",
    "# Calculate the difference in days between start and finish\n",
    "elev_hold['duration_days'] = (elev_hold['slut_dato'] - elev_hold['start_dato']).dt.days"
   ]
  },
  {
   "cell_type": "code",
   "execution_count": null,
   "id": "d77a85f7",
   "metadata": {},
   "outputs": [],
   "source": [
    "#Read grades\n",
    "grades=pd.read_pickle('../Data/grades.pkl')"
   ]
  },
  {
   "cell_type": "code",
   "execution_count": null,
   "id": "23dd79ab",
   "metadata": {},
   "outputs": [],
   "source": [
    "#Merge grades and student-groups\n",
    "test=elev_hold.merge(grades,on=['elev_id','inst_nr','fag_nr','fag_niveau'])\n",
    "hold_grade=test[~test['Karakter'].isna()]"
   ]
  },
  {
   "cell_type": "code",
   "execution_count": null,
   "id": "723ac115",
   "metadata": {},
   "outputs": [],
   "source": [
    "#Get course info\n",
    "filepath='../data/umo_fag.sas7bdat'\n",
    "course =pd.read_sas(filepath, format='sas7bdat',encoding='iso-8859-1')\n",
    "\n",
    "course=course[['Fag','KortBetegnelse']]\n",
    "course.rename(columns={'Fag':'fag_nr','KortBetegnelse':'course'},inplace=True)\n",
    "\n",
    "course_description=pd.read_excel('course_description.xlsx')\n",
    "\n",
    "course=course.merge(course_description,on='course',how='left')\n",
    "\n",
    "course=course[~course['hard_science'].isna()]\n",
    "print(len(course))\n",
    "course.drop_duplicates()\n",
    "len(course)"
   ]
  },
  {
   "cell_type": "code",
   "execution_count": null,
   "id": "1af3d202",
   "metadata": {},
   "outputs": [],
   "source": [
    "#Merge course info\n",
    "hold_grade=hold_grade.merge(course,on='fag_nr',how='left')\n",
    "\n",
    "#Drop dupliactes\n",
    "hold_grade.drop_duplicates(inplace=True)\n",
    "\n",
    "#Get the student metadata to merge student information on the student-groups\n",
    "tmp=pd.read_pickle('clean_students.pkl')\n",
    "\n",
    "#Drop columns not needed for now \n",
    "tmp.drop(columns=['lessons','absence','off_grade','off_absence','students','pedagogical_percent','FOED_DATO','grades',\n",
    "                 'percentage'],inplace=True)\n",
    "\n",
    "#Merge student info on group-grade and ensure the right dates are specified\n",
    "tmp=tmp.merge(hold_grade,on=['elev_id','inst_nr'],how='left')\n",
    "\n",
    "# Boolean indexing to filter rows\n",
    "filtered_df = tmp[(tmp['start_dato'] >= tmp['startdato']) & (tmp['slut_dato'] <= tmp['slutdato'])]"
   ]
  },
  {
   "cell_type": "code",
   "execution_count": null,
   "id": "5c1bf705",
   "metadata": {},
   "outputs": [],
   "source": [
    "#The courses from umo\n",
    "filepath='../data/umo_fag.sas7bdat'\n",
    "course =pd.read_sas(filepath, format='sas7bdat',encoding='iso-8859-1')\n",
    "\n",
    "#Keep only relevant columns and rename others\n",
    "course=course[['Fag','KortBetegnelse']]\n",
    "course.rename(columns={'Fag':'fag_nr','KortBetegnelse':'course'},inplace=True)\n",
    "\n",
    "#Add description to courses based on descrption and add hard_science\n",
    "course_description=pd.read_excel('course_description.xlsx')\n",
    "course=course.merge(course_description,on='course',how='left')\n",
    "\n",
    "print(len(course))\n",
    "course=course[~course['hard_science'].isna()]\n",
    "print(len(course))\n",
    "course.drop_duplicates(inplace=True)\n",
    "print(len(course))\n",
    "\n",
    "filtered_df=filtered_df.merge(course_description,on=['course','hard_science'],how='left')"
   ]
  },
  {
   "cell_type": "code",
   "execution_count": null,
   "id": "c26f08ab",
   "metadata": {},
   "outputs": [],
   "source": [
    "#The courses from umo to fill the missing values\n",
    "filepath='../data/macom_fag.sas7bdat'\n",
    "test =pd.read_sas(filepath, format='sas7bdat',encoding='iso-8859-1')\n",
    "\n",
    "test.drop(columns=['Niveau'],inplace=True)\n",
    "\n",
    "#Make an effort to add a description to all the NaN values\n",
    "filtered_df.drop\n",
    "ha=filtered_df[filtered_df['hard_science'].isna()]\n",
    "\n",
    "test=test.rename(columns={'FagNummer':'fag_nr','InstNr':'inst_nr'})\n",
    "\n",
    "ha=ha.merge(test,on=['fag_nr','inst_nr'],how='left')\n",
    "\n",
    "#Add description to courses based on descrption and add hard_science\n",
    "ha.drop(columns=['course','hard_science'],inplace=True)\n",
    "ha.rename(columns={'FagNavn':'course'},inplace=True)\n",
    "course_description=pd.read_excel('course_description.xlsx')\n",
    "haha=ha.merge(course_description,on='course',how='left')\n",
    "\n",
    "has=haha[['fag_nr','course','hard_science']]\n",
    "has.drop_duplicates(inplace=True)\n",
    "has.sort_values('hard_science',inplace=True)\n",
    "has.drop_duplicates(subset=['fag_nr'], keep='first',inplace=True)\n",
    "new=filtered_df.merge(has,on=['fag_nr'],how='left',suffixes=('_df1', '_df2'))\n",
    "\n",
    "new.drop(columns=['course_df1','hard_science_df1'])\n",
    "new.rename(columns={'course_df2':'course','hard_science_df2':'hard_science'},inplace=True)\n",
    "\n",
    "columns_to_fill = ['course','hard_science']\n",
    "\n",
    "# Fill NaN values in specified columns of df1 with corresponding values from df2\n",
    "filtered_df[columns_to_fill] = filtered_df[columns_to_fill].fillna(new[columns_to_fill])"
   ]
  },
  {
   "cell_type": "code",
   "execution_count": null,
   "id": "deab0460",
   "metadata": {},
   "outputs": [],
   "source": [
    "# Extract the school year based on the 'end_date' column\n",
    "filtered_df['school_year'] = filtered_df['slut_dato'].dt.year\n",
    "filtered_df.loc[filtered_df['slut_dato'].dt.month < 7, 'school_year'] -= 1\n",
    "\n",
    "# Extract the last two digits of the school year\n",
    "filtered_df['school_year_suffix'] = filtered_df['school_year'] % 100\n",
    "\n",
    "# Append the school year suffix to the hold_nr column\n",
    "filtered_df['new_holdnr'] = filtered_df['holdnr'] + filtered_df['school_year_suffix'] / 100"
   ]
  },
  {
   "cell_type": "code",
   "execution_count": null,
   "id": "d49752ab",
   "metadata": {},
   "outputs": [],
   "source": [
    "#Drop exams that are not in the specified time period for students \n",
    "new_df=filtered_df[(filtered_df['Fra'] >= filtered_df['startdato']) & ((filtered_df['Fra'] <= filtered_df['slutdato']))]"
   ]
  },
  {
   "cell_type": "code",
   "execution_count": null,
   "id": "5c483051",
   "metadata": {},
   "outputs": [],
   "source": [
    "# Assuming 'new_df' is the DataFrame containing the 'Karakter' column\n",
    "new_df['grade'] = pd.to_numeric(new_df['Karakter'], errors='coerce').fillna(0).astype(int)\n",
    "\n",
    "new_df=new_df[new_df['grade'] != 94]"
   ]
  },
  {
   "cell_type": "code",
   "execution_count": null,
   "id": "b58918f9",
   "metadata": {},
   "outputs": [],
   "source": [
    "#Get int value from age\n",
    "new_df['age']= new_df['age_semester'].dt.days.astype(int)\n",
    "new_df['gender']= new_df['KOEN'].astype(int)\n",
    "\n",
    "#Change the gender to zeroes and 1s calculate percentage\n",
    "new_df['gender'] = new_df['gender'].replace({1:0, 2:1})\n",
    "\n",
    "#Get the mean of variables for each group\n",
    "group_meta=(new_df.groupby(['new_holdnr'],sort=False)\n",
    "              .agg(**{'students': ('elev_id','nunique'),'gender_spread': ('gender','mean'),\n",
    "                     'income_mothers': ('income_mother','mean'),'income_fathers': ('income_father','mean'),\n",
    "                     'edu_mothers': ('edu_level_mother','mean'),'edu_fathers': ('edu_level_father','mean'),\n",
    "                     'group_grade':('grade','mean'),'group_abssence':('percent','mean'),\n",
    "                      'average_age':('age','mean'),'students_avg_grde':('avg_grade','mean')})\n",
    "              .reset_index()\n",
    "              )\n"
   ]
  },
  {
   "cell_type": "code",
   "execution_count": null,
   "id": "9e5308eb",
   "metadata": {},
   "outputs": [],
   "source": [
    "lecture_data = pd.read_pickle('../df/group_meta.pkl')"
   ]
  },
  {
   "cell_type": "code",
   "execution_count": null,
   "id": "b94e81b5",
   "metadata": {},
   "outputs": [],
   "source": [
    "#Create a new dataframe with both lecture data for groups and group construction data\n",
    "merged=new_df.merge(lecture_data,on='new_holdnr',how='left')\n",
    "merged=merged.merge(group_meta,on='new_holdnr')"
   ]
  },
  {
   "cell_type": "code",
   "execution_count": null,
   "id": "eb6e2127",
   "metadata": {},
   "outputs": [],
   "source": [
    "merged['gender']= merged['KOEN'].astype(int)\n",
    "\n",
    "#Change the gender to zeroes and 1s calculate percentage\n",
    "merged['gender'] = merged['gender'].replace({1:0, 2:1})\n",
    "\n",
    "merged.drop(columns=['start_dato','slut_dato','fag_nr','Fra','Til','duration_days'\n",
    "                    ,'school_year_suffix','school_year','holdnr','KOEN'],inplace=True)"
   ]
  },
  {
   "cell_type": "code",
   "execution_count": null,
   "id": "b38669b1",
   "metadata": {},
   "outputs": [],
   "source": [
    "merged.to_pickle('../df/group_regression.pkl')"
   ]
  },
  {
   "cell_type": "code",
   "execution_count": null,
   "id": "07f35651",
   "metadata": {},
   "outputs": [],
   "source": [
    "#The courses from umo\n",
    "filepath='../data/macom_fag.sas7bdat'\n",
    "test =pd.read_sas(filepath, format='sas7bdat',encoding='iso-8859-1')\n",
    "\n",
    "test.drop(columns=['Niveau'],inplace=True)"
   ]
  },
  {
   "cell_type": "code",
   "execution_count": null,
   "id": "039efa34",
   "metadata": {},
   "outputs": [],
   "source": [
    "merge_course=elev_hold.merge(test,left_on=['fag_nr','inst_nr'],\n",
    "                             right_on=['FagNummer','InstNr'],how='left')"
   ]
  },
  {
   "cell_type": "code",
   "execution_count": null,
   "id": "5f41d9a6",
   "metadata": {},
   "outputs": [],
   "source": [
    "# Extract the school year based on the 'end_date' column\n",
    "merge_course['school_year'] = merge_course['slut_dato'].dt.year\n",
    "merge_course.loc[merge_course['slut_dato'].dt.month < 7, 'school_year'] -= 1\n",
    "\n",
    "# Extract the last two digits of the school year\n",
    "merge_course['school_year_suffix'] = merge_course['school_year'] % 100\n",
    "\n",
    "# Append the school year suffix to the hold_nr column\n",
    "merge_course['new_holdnr'] = merge_course['holdnr'] + merge_course['school_year_suffix'] / 100"
   ]
  },
  {
   "cell_type": "code",
   "execution_count": null,
   "id": "efc36d59",
   "metadata": {},
   "outputs": [],
   "source": [
    "danish=merge_course.query('FagNavn == \"Dansk\"')\n",
    "danish.sort_values('start_dato')\n",
    "danish.drop_duplicates(subset=['elev_id','inst_nr','school_year'], keep='first',inplace=True)\n",
    "\n",
    "danish.drop(columns=['aarsag','holdnr','start_dato','slut_dato','fag_nr','fag_niveau','duration_days',\n",
    "                    'FagNummer','FagNavn','InstNr','school_year_suffix'],inplace=True)\n"
   ]
  },
  {
   "cell_type": "code",
   "execution_count": null,
   "id": "352aa919",
   "metadata": {},
   "outputs": [],
   "source": [
    "student_socio=pd.read_pickle('../df/normalized_student.pkl')\n",
    "student_socio['age']= student_socio['age_semester'].dt.days.astype(int)\n",
    "# Extract the school year based on the 'end_date' column\n",
    "student_socio['school_year'] = student_socio['slutdato'].dt.year\n",
    "student_socio.loc[student_socio['slutdato'].dt.month < 7, 'school_year'] -= 1\n",
    "to_merge=student_socio[['elev_id','inst_nr','step','gender','school_year','income_mother','income_father',\n",
    "              'edu_level_father','edu_level_mother','avg_grade','percent','age']]"
   ]
  },
  {
   "cell_type": "code",
   "execution_count": null,
   "id": "70e2919e",
   "metadata": {},
   "outputs": [],
   "source": [
    "dan_merge=danish.merge(to_merge,on=['elev_id','school_year','inst_nr'])"
   ]
  },
  {
   "cell_type": "code",
   "execution_count": null,
   "id": "d742a483",
   "metadata": {},
   "outputs": [],
   "source": [
    "#Clean columns for outliers\n",
    "columns_of_interest = ['age','income_mother','income_father']\n",
    "\n",
    "# Calculate the z-scores for the income variables\n",
    "income_zscores = dan_merge[['age','income_mother','income_father']].apply(zscore)\n",
    "\n",
    "# Create a boolean mask to select rows with income z-scores below 2.5\n",
    "income_mask = (income_zscores.abs() < 2.5).all(axis=1)\n",
    "\n",
    "# Apply the mask to the DataFrame\n",
    "dan_merge[columns_of_interest] = dan_merge[columns_of_interest][income_mask]\n",
    "\n",
    "\n",
    "#Get the metadata for each group\n",
    "dan_meta=(dan_merge.groupby(['new_holdnr','inst_nr'],sort=False)\n",
    "              .agg(**{'students': ('elev_id','nunique'),\n",
    "                     'income_mothers': ('income_mother','mean'),'income_fathers': ('income_father','mean'),\n",
    "                     'edu_mothers': ('edu_level_mother','mean'),'edu_fathers': ('edu_level_father','mean'),\n",
    "                     'students_avg_grade':('avg_grade','mean'),'students_absence':('percent','mean'),\n",
    "                      'avg_age':('age','mean')\n",
    "                      })\n",
    "              .reset_index()\n",
    "              )\n",
    "\n",
    "dan_merge=dan_merge.merge(dan_meta,on=['new_holdnr','inst_nr'],how='left')\n",
    "\n",
    "dan_merge=dan_merge[(dan_merge['students'] > 10) & (dan_merge['students'] < 37)]"
   ]
  },
  {
   "cell_type": "code",
   "execution_count": null,
   "id": "f47aa5d2",
   "metadata": {},
   "outputs": [],
   "source": [
    "# Define the columns to normalize\n",
    "cols_to_normalize = ['age','avg_age']\n",
    "\n",
    "cols_of_interest = ['edu_level_mother', 'edu_level_father', 'income_mother', 'income_father']\n",
    "# Define the range to scale the values to\n",
    "min_value = -3\n",
    "max_value = 3\n",
    "\n",
    "# Create a MinMaxScaler object and fit it to the data\n",
    "scaler = MinMaxScaler(feature_range=(min_value, max_value))\n",
    "scaler.fit(dan_merge[cols_to_normalize])\n",
    "\n",
    "# Transform the data using the scaler\n",
    "dan_merge[cols_to_normalize] = scaler.transform(dan_merge[cols_to_normalize])\n",
    "\n",
    "#Define group column\n",
    "group_col = 'new_holdnr'\n",
    "\n",
    "# Calculate the standard deviation for each variable within each group\n",
    "std_devs = dan_merge.groupby(group_col)[cols_of_interest].std()\n",
    "\n",
    "# Calculate the average standard deviation for each group\n",
    "std_devs['diversity_score'] = std_devs.mean(axis=1)\n",
    "\n",
    "# Reset the index to obtain a DataFrame with group identifiers and diversity scores\n",
    "diversity_scores = std_devs[['diversity_score']].reset_index()"
   ]
  },
  {
   "cell_type": "code",
   "execution_count": null,
   "id": "50b93178",
   "metadata": {},
   "outputs": [],
   "source": [
    "#Merge main Danish class with diversity scores\n",
    "dan_merge=dan_merge.merge(diversity_scores,on='new_holdnr')"
   ]
  },
  {
   "cell_type": "code",
   "execution_count": null,
   "id": "3b9444c4",
   "metadata": {},
   "outputs": [],
   "source": [
    "#Get student difference from their class in all relevant variables.\n",
    "dan_merge['diff_income_mother']=dan_merge['income_mother']-dan_merge['income_mothers']\n",
    "dan_merge['diff_income_father']=dan_merge['income_father']-dan_merge['income_fathers']\n",
    "dan_merge['diff_edu_mother']=dan_merge['edu_level_mother']-dan_merge['edu_mothers']\n",
    "dan_merge['diff_edu_father']=dan_merge['edu_level_father']-dan_merge['edu_fathers']\n",
    "dan_merge['diff_age']=dan_merge['age']-dan_merge['avg_age']\n",
    "\n",
    "#Drop columns not explaining the difference\n",
    "dan_merge.drop(columns=['income_mother','income_father','edu_level_father','edu_level_mother',\n",
    "      'income_fathers','income_mothers','edu_fathers','edu_mothers','age','avg_age','new_holdnr',\n",
    "                       'gender','students'],inplace=True)\n",
    "dan_merge=dan_merge.drop_duplicates()\n"
   ]
  },
  {
   "cell_type": "code",
   "execution_count": null,
   "id": "3f673e1f",
   "metadata": {},
   "outputs": [],
   "source": [
    "#Read clean student registry\n",
    "students=pd.read_pickle('../Data/clean_reg.pkl')\n",
    "\n",
    "# Extract the school year based on the 'end_date' column\n",
    "students['school_year'] = students['slutdato'].dt.year\n",
    "students.loc[students['slutdato'].dt.month < 7, 'school_year'] -= 1\n",
    "\n",
    "#Rename and drop columns for merge\n",
    "students.rename(columns={'INSTNR':'inst_nr'},inplace=True)\n",
    "students.drop(columns=['startdato','slutdato'],inplace=True)\n",
    "\n",
    "#merge students with the info for their main class\n",
    "group_dynamics=dan_merge.merge(students,on=['elev_id','step','inst_nr','school_year'],how='left')\n",
    "\n",
    "#Save dataframe with diversity scores, and socio-economic differences, groupsize of main class\n",
    "group_dynamics.to_pickle('../distance/diversity_info.pkl')"
   ]
  }
 ],
 "metadata": {
  "kernelspec": {
   "display_name": "Python 3 (ipykernel)",
   "language": "python",
   "name": "python3"
  },
  "language_info": {
   "codemirror_mode": {
    "name": "ipython",
    "version": 3
   },
   "file_extension": ".py",
   "mimetype": "text/x-python",
   "name": "python",
   "nbconvert_exporter": "python",
   "pygments_lexer": "ipython3",
   "version": "3.9.16"
  }
 },
 "nbformat": 4,
 "nbformat_minor": 5
}
