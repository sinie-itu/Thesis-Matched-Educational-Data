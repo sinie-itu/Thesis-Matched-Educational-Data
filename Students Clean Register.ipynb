{
 "cells": [
  {
   "cell_type": "markdown",
   "id": "08dd502f",
   "metadata": {},
   "source": [
    "### Show number of grades students received pr. school year\n",
    "Also save clean student reg"
   ]
  },
  {
   "cell_type": "code",
   "execution_count": null,
   "id": "a60bd878",
   "metadata": {},
   "outputs": [],
   "source": [
    "import pandas as pd\n",
    "import numpy as np\n",
    "import matplotlib.pyplot as plt\n",
    "import sas7bdat\n",
    "import seaborn as sns\n",
    "\n",
    "\n",
    "import matplotlib as mpl\n",
    "\n",
    "mpl.style.use('seaborn-whitegrid')  # Use 'seaborn-whitegrid' instead of 'ggplot'\n",
    "\n",
    "mpl.rcParams['font.family'] = 'serif'\n",
    "mpl.rcParams['font.size'] = 14\n",
    "mpl.rcParams['axes.labelsize'] = 13\n",
    "mpl.rcParams['axes.titlesize'] = 16\n",
    "mpl.rcParams['xtick.labelsize'] = 11\n",
    "mpl.rcParams['ytick.labelsize'] = 11\n",
    "mpl.rcParams['axes.titleweight'] = 'bold'\n",
    "mpl.rcParams['axes.spines.top'] = False\n",
    "mpl.rcParams['axes.spines.right'] = False\n",
    "mpl.rcParams['axes.prop_cycle'] = plt.cycler('color', plt.cm.Set1.colors)\n",
    "\n",
    "plt.rcParams['figure.figsize'] = [10, 6]\n",
    "plt.rcParams['figure.dpi'] = 200f\n",
    "plt.rcParams['savefig.dpi'] = 300\n",
    "plt.rcParams['figure.facecolor'] = '#f8f8f8'\n",
    "\n",
    "pd.set_option('display.max_columns', None)"
   ]
  },
  {
   "cell_type": "code",
   "execution_count": null,
   "id": "6994fa44",
   "metadata": {},
   "outputs": [],
   "source": [
    "filepath='../data/elevregister.sas7bdat'\n",
    "df =pd.read_sas(filepath, format='sas7bdat',encoding='iso-8859-1')\n",
    "\n",
    "df=df.drop(columns=['UDD','UFORM','AUDD','KOMP'])#Remove unecessary columns\n",
    "\n",
    "df=df.rename(columns={'ELEV3_VFRA':'startdato','ELEV3_VTIL':'slutdato','UDEL':\"step\",\n",
    "                     \"AFG_ART\":'depart_reason',\"TILG_ART\":'join_reason'})#Rename to easier access and better understanding\n",
    "\n",
    "\n",
    "#Map steps to actual year \n",
    "map={\n",
    "    21:1,\n",
    "    22:2,\n",
    "    23 :3\n",
    "}\n",
    "\n",
    "df['step']=df['step'].map(map)"
   ]
  },
  {
   "cell_type": "code",
   "execution_count": null,
   "id": "d20f5315",
   "metadata": {},
   "outputs": [],
   "source": [
    "filepath='../data/karakterer.sas7bdat'\n",
    "grade =pd.read_sas(filepath, format='sas7bdat',encoding='iso-8859-1')"
   ]
  },
  {
   "cell_type": "code",
   "execution_count": null,
   "id": "aadb15bb",
   "metadata": {},
   "outputs": [],
   "source": [
    "#Keep only students whose first year active is 2011 or later.\n",
    "df['depart_reason']=df['depart_reason'].astype(int)#Make sure the AFG_ART is int \n",
    "\n",
    "fun=(df.groupby('elev_id',sort=False)\n",
    "              .agg(**{'startdato': ('startdato','min')}) #Aggregate to the lowest value in startdate column\n",
    "              .reset_index()\n",
    "              )\n",
    "\n",
    "fun=fun[(fun['startdato'].dt.year>=2011)] #Keep only those active after 2011\n",
    "\n",
    "df=df.loc[df['elev_id'].isin((fun['elev_id']))]#Locate in main df whose active in the fun/temp \n",
    "\n",
    "df=df[df['startdato'].dt.year <= 2020]#Dont keep after 2020, because of data quality issues \n",
    "\n",
    "\n",
    "df.to_pickle('../data/clean_reg.pkl')"
   ]
  },
  {
   "cell_type": "code",
   "execution_count": null,
   "id": "aa13194a",
   "metadata": {},
   "outputs": [],
   "source": [
    "df['slutdato']=pd.to_datetime(df['slutdato'])\n",
    "\n",
    "new_grade=grade[['elev_id','Fra','Karakter','FagNiveau','FagNummer']]#Keep only relevant columns\n",
    "new_grade['Fra']=new_grade['Fra'].astype(str) #Make the from column a string to extract pattern\n",
    "new_grade=new_grade[new_grade['Fra'].str.match('^2\\d{3}')]#Extract only patterns that match a legit year 20**\n",
    "new_grade['Fra']=pd.to_datetime(new_grade['Fra'])#Make DateTime\n",
    "new_grade['year']=new_grade['Fra'].dt.year #Calculate a year\n",
    "\n",
    "new_grade=new_grade[new_grade['year'] >= 2011]#Only after 2011"
   ]
  },
  {
   "cell_type": "code",
   "execution_count": null,
   "id": "64f6a254",
   "metadata": {},
   "outputs": [],
   "source": [
    "#Match grade to students\n",
    "merged=pd.merge(df,new_grade,left_on='elev_id',right_on='elev_id')\n",
    "\n",
    "#Keep only grades between start and end date\n",
    "mask=merged['Fra'].between(merged['startdato'],merged['slutdato'])\n",
    "\n",
    "merge=merged[mask]\n",
    "\n",
    "#Save register with grades\n",
    "merge.to_pickle('../df/register_grade.pkl')"
   ]
  },
  {
   "cell_type": "code",
   "execution_count": null,
   "id": "b824d1c9",
   "metadata": {},
   "outputs": [],
   "source": [
    "#I want to calculate the weighted average for students so I recreate columns based on FagNiveau\n",
    "new_list=['A','B','C']\n",
    "new_df=merge.loc[merge['FagNiveau'].isin(new_list)]\n",
    "\n",
    "conditions = [\n",
    "    new_df['FagNiveau'] == 'A' ,\n",
    "    new_df['FagNiveau'] == 'B',\n",
    "    new_df['FagNiveau'] == 'C'\n",
    "]\n",
    "\n",
    "choices = [2,1.5,1]\n",
    "\n",
    "new_df['weight'] = np.select(conditions,choices,default=0)#Assign conditional weights to courses"
   ]
  },
  {
   "cell_type": "code",
   "execution_count": null,
   "id": "8469668b",
   "metadata": {},
   "outputs": [],
   "source": [
    "new_df['Karakter']=new_df['Karakter'].astype(str)#We need to make the grades string to extract the pattern\n",
    "\n",
    "\n",
    "grades=[\"-3\",\"0\",\"2\",\"4\",\"7\",\"10\",\"12\"] #Keep only relevant grades \n",
    "\n",
    "new_df=new_df[new_df['Karakter'].isin(grades)]\n",
    "\n",
    "new_df['Karakter']=new_df['Karakter'].astype(int)#Concvert back to int\n",
    "\n",
    "new_df.to_pickle('../df/students_year_grade.pkl')"
   ]
  },
  {
   "cell_type": "code",
   "execution_count": null,
   "id": "09c184fa",
   "metadata": {},
   "outputs": [],
   "source": [
    "# Create a list of grades repeated based on weight\n",
    "grades_repeated = np.repeat(new_df['Karakter'], new_df['weight'])\n",
    "\n",
    "# Create a new DataFrame with repeated values for elev_id, startdato, slutdato, step, course, and grade\n",
    "df_new = pd.DataFrame({'elev_id': np.repeat(new_df['elev_id'], new_df['weight']),\n",
    "                       'startdato': np.repeat(new_df['startdato'], new_df['weight']),\n",
    "                       'slutdato': np.repeat(new_df['slutdato'], new_df['weight']),\n",
    "                       'step': np.repeat(new_df['step'], new_df['weight']),\n",
    "                       'course': np.repeat(new_df['FagNummer'], new_df['weight']),\n",
    "                       'grade': grades_repeated})\n",
    "\n",
    "# Calculate the weighted average grade for each elev_id, startdato, slutdato, and step combination\n",
    "w_avg = (df_new.groupby(['elev_id', 'startdato', 'slutdato', 'step'], sort=False)\n",
    "              .agg(**{'avg_grade': ('grade', 'mean')})\n",
    "              .reset_index()\n",
    "              )\n"
   ]
  },
  {
   "cell_type": "code",
   "execution_count": null,
   "id": "c5e779ff",
   "metadata": {},
   "outputs": [],
   "source": [
    "# Calculate the number of grades for each student in each school year and step\n",
    "test = (new_df.groupby(['elev_id', 'startdato', 'step'], sort=False)\n",
    "              .agg(**{'grades': ('Karakter', 'count')})\n",
    "              .reset_index()\n",
    "              )\n",
    "\n",
    "# Merge the weighted average DataFrame with the grades count DataFrame\n",
    "w_avg = pd.merge(w_avg, test, on=['elev_id', 'startdato', 'step'], how='left')\n",
    "\n",
    "# Filter the DataFrame to include only students with 22 or fewer grades\n",
    "w_avg1 = w_avg.query('grades <= 22')\n",
    "\n",
    "# Separate the DataFrame into groups based on the step (year)\n",
    "x = w_avg1.query('step == 1')\n",
    "y = w_avg1.query('step == 2')\n",
    "z = w_avg1.query('step == 3')\n",
    "\n",
    "# Retrieve the grades counts for each group\n",
    "x1 = x['grades']\n",
    "y1 = y['grades']\n",
    "z1 = z['grades']\n",
    "\n",
    "# Plot the histograms of grades counts for each year\n",
    "fig, ax = plt.subplots(figsize=(12, 6))\n",
    "\n",
    "sns.histplot(x1, color='darkslategray', label='Grades given for year 1 students: Mean={:.2f}, Median={:.2f}, Standard Deviation={:.2f}'.format(*x['grades'].describe()[['mean', '50%', 'std']]), bins=19)\n",
    "sns.histplot(y1, color='darkcyan', label='Grades given for year 2 students: Mean={:.2f}, Median={:.2f}, Standard Deviation={:.2f}'.format(*y['grades'].describe()[['mean', '50%', 'std']]), bins=19)\n",
    "sns.histplot(z1, color='turquoise', label='Grades given for year 3 students: Mean={:.2f}, Median={:.2f}, Standard Deviation={:.2f}'.format(*z['grades'].describe()[['mean', '50%', 'std']]), bins=19)\n",
    "\n",
    "ax.set_xlabel('Grades awarded in a grade-level')\n",
    "ax.set_ylabel('Count of students with given grades received')\n",
    "plt.legend()\n",
    "plt.tight_layout()\n",
    "\n",
    "w_avg.to_pickle('figures/grades_steps.pkl')\n",
    "plt.savefig('figures/grades_steps.pdf')\n",
    "\n",
    "plt.show()\n"
   ]
  }
 ],
 "metadata": {
  "kernelspec": {
   "display_name": "Python 3 (ipykernel)",
   "language": "python",
   "name": "python3"
  },
  "language_info": {
   "codemirror_mode": {
    "name": "ipython",
    "version": 3
   },
   "file_extension": ".py",
   "mimetype": "text/x-python",
   "name": "python",
   "nbconvert_exporter": "python",
   "pygments_lexer": "ipython3",
   "version": "3.9.16"
  }
 },
 "nbformat": 4,
 "nbformat_minor": 5
}
