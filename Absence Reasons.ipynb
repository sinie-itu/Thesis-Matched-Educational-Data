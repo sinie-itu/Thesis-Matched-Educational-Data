{
 "cells": [
  {
   "cell_type": "markdown",
   "id": "51cf843e",
   "metadata": {},
   "source": [
    "### In this Notebook we explore the most popular reasons for being absent "
   ]
  },
  {
   "cell_type": "code",
   "execution_count": null,
   "id": "a4fe59fe",
   "metadata": {},
   "outputs": [],
   "source": [
    "import pandas as pd\n",
    "import numpy as np\n",
    "import matplotlib.pyplot as plt\n",
    "import sas7bdat\n",
    "import seaborn as sns\n",
    "\n",
    "import matplotlib as mpl\n",
    "\n",
    "mpl.style.use('seaborn-whitegrid')  # Use 'seaborn-whitegrid' instead of 'ggplot'\n",
    "\n",
    "mpl.rcParams['font.family'] = 'serif'\n",
    "mpl.rcParams['font.size'] = 14\n",
    "mpl.rcParams['axes.labelsize'] = 13\n",
    "mpl.rcParams['axes.titlesize'] = 16\n",
    "mpl.rcParams['xtick.labelsize'] = 11\n",
    "mpl.rcParams['ytick.labelsize'] = 11\n",
    "mpl.rcParams['axes.titleweight'] = 'bold'\n",
    "mpl.rcParams['axes.spines.top'] = False\n",
    "mpl.rcParams['axes.spines.right'] = False\n",
    "mpl.rcParams['axes.prop_cycle'] = plt.cycler('color', plt.cm.Set1.colors)\n",
    "\n",
    "plt.rcParams['figure.figsize'] = [10, 6]\n",
    "plt.rcParams['figure.dpi'] = 200\n",
    "plt.rcParams['savefig.dpi'] = 300\n",
    "plt.rcParams['figure.facecolor'] = '#f8f8f8'\n",
    "\n",
    "pd.set_option('display.max_columns', None)"
   ]
  },
  {
   "cell_type": "code",
   "execution_count": null,
   "id": "9c1c6bde",
   "metadata": {},
   "outputs": [],
   "source": [
    "#Read absence df\n",
    "filepath='../data/macom_fravaer.sas7bdat'\n",
    "df =pd.read_sas(filepath, format='sas7bdat',encoding='iso-8859-1')\n",
    "\n",
    "#Drop duplicates\n",
    "df=df.drop_duplicates(subset=['elev_id','LektionsNr'],keep=\"first\")\n",
    "\n",
    "#We are onle interested in understanding instances with a reason for departure in the visuals\n",
    "df=df[~df['Fraværsårsag'].isna()]\n",
    "df['Fraværsårsag']=df['Fraværsårsag'].astype(str)\n",
    "\n",
    "#Read student information\n",
    "elev=pd.read_pickle('../data/clean_reg.pkl')"
   ]
  },
  {
   "cell_type": "code",
   "execution_count": null,
   "id": "97a9afe9",
   "metadata": {},
   "outputs": [],
   "source": []
  },
  {
   "cell_type": "code",
   "execution_count": null,
   "id": "fba83ec5",
   "metadata": {},
   "outputs": [],
   "source": [
    "# Grouping students by start year\n",
    "fun = (df.groupby('Fraværsårsag', sort=False)\n",
    "              .agg(**{'students': ('elev_id', 'count')})\n",
    "              .reset_index()\n",
    ")\n",
    "\n",
    "fun=fun.query('Fraværsårsag != \"Andet\"')\n",
    "\n",
    "print(fun)\n",
    "\n",
    "map = {\n",
    "    'Sygdom': 'Illness',\n",
    "    \"Private forhold\": 'Private Reason',\n",
    "    \"Kom for sent\": 'Late for activity',\n",
    "    \"Skolerelaterede aktiviteter\": 'School related activities'\n",
    "}\n",
    "\n",
    "# Convert values to strings before mapping\n",
    "fun['Fraværsårsag'] = fun['Fraværsårsag'].astype(str).map(map)\n",
    "\n",
    "print(fun)\n",
    "\n",
    "test = fun.sort_values('students', ascending=False).head(10)\n",
    "\n",
    "x = test['Fraværsårsag']\n",
    "y = test['students']\n",
    "\n",
    "fig, ax = plt.subplots(figsize=(16, 8))\n",
    "ax.bar(x, y,color='steelblue')\n",
    "\n",
    "ax.set_xlabel('Reason for missing activity')\n",
    "ax.set_ylabel('Count of reasons registered')\n",
    "ax.set_title('The most popular reasons for being absent')\n",
    "ax.ticklabel_format(style='plain', axis='y')\n",
    "plt.xticks(x)\n",
    "plt.tight_layout()\n",
    "test.to_pickle('figures/reason_absence.pkl')\n",
    "plt.savefig('figures/reason_absence.pdf')\n",
    "plt.show()\n"
   ]
  }
 ],
 "metadata": {
  "kernelspec": {
   "display_name": "Python 3 (ipykernel)",
   "language": "python",
   "name": "python3"
  },
  "language_info": {
   "codemirror_mode": {
    "name": "ipython",
    "version": 3
   },
   "file_extension": ".py",
   "mimetype": "text/x-python",
   "name": "python",
   "nbconvert_exporter": "python",
   "pygments_lexer": "ipython3",
   "version": "3.9.16"
  }
 },
 "nbformat": 4,
 "nbformat_minor": 5
}
