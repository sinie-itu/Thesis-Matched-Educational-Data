{
 "cells": [
  {
   "cell_type": "markdown",
   "id": "058c92aa",
   "metadata": {},
   "source": [
    "### Here we look at the timing of lectures\n",
    "\n",
    "We aim to understand the most common time of day for lectures and the length of lectures"
   ]
  },
  {
   "cell_type": "code",
   "execution_count": null,
   "id": "fdcd58f8",
   "metadata": {},
   "outputs": [],
   "source": [
    "import pandas as pd\n",
    "import sas7bdat\n",
    "import numpy as np\n",
    "import matplotlib.pyplot as plt\n",
    "import seaborn as sns\n",
    "pd.set_option('display.max_columns',None) \n",
    "\n",
    "import matplotlib as mpl\n",
    "\n",
    "mpl.style.use('seaborn-whitegrid')  # Use 'seaborn-whitegrid' instead of 'ggplot'\n",
    "\n",
    "mpl.rcParams['font.family'] = 'serif'\n",
    "mpl.rcParams['font.size'] = 14\n",
    "mpl.rcParams['axes.labelsize'] = 13\n",
    "mpl.rcParams['axes.titlesize'] = 16\n",
    "mpl.rcParams['xtick.labelsize'] = 11\n",
    "mpl.rcParams['ytick.labelsize'] = 11\n",
    "mpl.rcParams['axes.titleweight'] = 'bold'\n",
    "mpl.rcParams['axes.spines.top'] = False\n",
    "mpl.rcParams['axes.spines.right'] = False\n",
    "mpl.rcParams['axes.prop_cycle'] = plt.cycler('color', plt.cm.Set1.colors)\n",
    "\n",
    "plt.rcParams['figure.figsize'] = [10, 6]\n",
    "plt.rcParams['figure.dpi'] = 200\n",
    "plt.rcParams['savefig.dpi'] = 300\n",
    "plt.rcParams['figure.facecolor'] = '#f8f8f8'\n",
    "\n",
    "pd.set_option('display.max_columns', None)"
   ]
  },
  {
   "cell_type": "code",
   "execution_count": null,
   "id": "69d5ca49",
   "metadata": {},
   "outputs": [],
   "source": [
    "#Read lessons\n",
    "filepath='../data/macom_lektioner.sas7bdat'\n",
    "df =pd.read_sas(filepath, format='sas7bdat',encoding='iso-8859-1')"
   ]
  },
  {
   "cell_type": "code",
   "execution_count": null,
   "id": "f7505493",
   "metadata": {},
   "outputs": [],
   "source": [
    "#Extract hour from start time\n",
    "df['start_hour']=df['StartTime'].dt.hour\n",
    "df['end_hour']=df['EndTime'].dt.hour"
   ]
  },
  {
   "cell_type": "code",
   "execution_count": null,
   "id": "2784d92f",
   "metadata": {},
   "outputs": [],
   "source": [
    "# Plot the start hour of lectures\n",
    "\n",
    "x = df['start_hour']\n",
    "y = df['end_hour']\n",
    "\n",
    "fig, ax = plt.subplots(figsize=(12, 6))\n",
    "\n",
    "# Plot the histogram for the start hour\n",
    "sns.histplot(x, label='Start time of group activity: Mean={:.2f}, Median={:.2f}, Standard Deviation={:.2f}'.format(*df['start_hour'].describe()[['mean', '50%', 'std']]), bins=48)\n",
    "\n",
    "# Plot the histogram for the end hour, shifted slightly to the right for visibility\n",
    "sns.histplot(y + 0.2, label='End time of group activity: Mean={:.2f}, Median={:.2f}, Standard Deviation={:.2f}'.format(*df['end_hour'].describe()[['mean', '50%', 'std']]), bins=48)\n",
    "\n",
    "ax.set_xlabel('Hours of the day')\n",
    "ax.set_ylabel('Number of group activities beginning at a specific time')\n",
    "plt.legend(loc='upper left')\n",
    "plt.tight_layout()\n",
    "\n",
    "# Save the filtered data as a pickle file\n",
    "df.to_pickle('figures/start_end_hour.pkl')\n",
    "\n",
    "# Save the figure as a PDF file\n",
    "plt.savefig('figures/start_end_hour.pdf')\n",
    "\n",
    "plt.xticks(range(1, 25))  # Set the x-axis ticks to display hours 1-24\n",
    "\n",
    "plt.show()"
   ]
  },
  {
   "cell_type": "code",
   "execution_count": null,
   "id": "d98fe9f1",
   "metadata": {},
   "outputs": [],
   "source": [
    "#Read lecture group dataframe, to keep length of lectures\n",
    "filepath='../data/macom_lektionerhold.sas7bdat'\n",
    "lh =pd.read_sas(filepath, format='sas7bdat',encoding='iso-8859-1')"
   ]
  },
  {
   "cell_type": "code",
   "execution_count": null,
   "id": "c6107e05",
   "metadata": {},
   "outputs": [],
   "source": [
    "#Keep only realistic time frame \n",
    "new=lh[(lh['MinuttersUndervisning'] <= 105) & (lh['MinuttersUndervisning'] > 40)].copy()\n",
    "\n",
    "\n",
    "#Plot length of lectures for groups\n",
    "fig,ax=plt.subplots(figsize=(12,6))                                                                       \n",
    "\n",
    "\n",
    "\n",
    "ax.hist(new['MinuttersUndervisning'],color='steelblue')\n",
    "\n",
    "ax.set_xlabel('Minutes')\n",
    "ax.set_ylabel('Count of lessons taking certain time')\n",
    "ax.set_title('Time taken for lessons in Minutes: Mean={:.2f}, Median={:.2f}, Standard Deviation={:.2f}'.format(*new['MinuttersUndervisning'].describe()[['mean',\n",
    "                                                                                                             '50%',\n",
    "                                                                                                             'std']]))\n",
    "#plt.legend()\n",
    "plt.tight_layout()\n",
    "\n",
    "df.to_pickle('figures/minutes_activities.pkl')\n",
    "plt.savefig('figures/minutes_activities.pdf')\n",
    "#plt.xticks(x)\n",
    "\n",
    "plt.show()"
   ]
  },
  {
   "cell_type": "code",
   "execution_count": null,
   "id": "cc972302",
   "metadata": {},
   "outputs": [],
   "source": []
  }
 ],
 "metadata": {
  "kernelspec": {
   "display_name": "Python 3 (ipykernel)",
   "language": "python",
   "name": "python3"
  },
  "language_info": {
   "codemirror_mode": {
    "name": "ipython",
    "version": 3
   },
   "file_extension": ".py",
   "mimetype": "text/x-python",
   "name": "python",
   "nbconvert_exporter": "python",
   "pygments_lexer": "ipython3",
   "version": "3.9.16"
  }
 },
 "nbformat": 4,
 "nbformat_minor": 5
}
