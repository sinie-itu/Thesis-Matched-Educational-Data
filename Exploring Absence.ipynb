{
 "cells": [
  {
   "cell_type": "markdown",
   "id": "339fbf02",
   "metadata": {},
   "source": [
    "### Here we how many lessons students attend and how much absence they are rewarded"
   ]
  },
  {
   "cell_type": "code",
   "execution_count": null,
   "id": "12aee7be",
   "metadata": {},
   "outputs": [],
   "source": [
    "import pandas as pd\n",
    "import numpy as np\n",
    "import matplotlib.pyplot as plt\n",
    "import sas7bdat\n",
    "import seaborn as sns\n",
    "\n",
    "import matplotlib as mpl\n",
    "\n",
    "mpl.style.use('seaborn-whitegrid')  # Use 'seaborn-whitegrid' instead of 'ggplot'\n",
    "\n",
    "mpl.rcParams['font.family'] = 'serif'\n",
    "mpl.rcParams['font.size'] = 14\n",
    "mpl.rcParams['axes.labelsize'] = 13\n",
    "mpl.rcParams['axes.titlesize'] = 16\n",
    "mpl.rcParams['xtick.labelsize'] = 11\n",
    "mpl.rcParams['ytick.labelsize'] = 11\n",
    "mpl.rcParams['axes.titleweight'] = 'bold'\n",
    "mpl.rcParams['axes.spines.top'] = False\n",
    "mpl.rcParams['axes.spines.right'] = False\n",
    "mpl.rcParams['axes.prop_cycle'] = plt.cycler('color', plt.cm.Set1.colors)\n",
    "\n",
    "plt.rcParams['figure.figsize'] = [10, 6]\n",
    "plt.rcParams['figure.dpi'] = 200\n",
    "plt.rcParams['savefig.dpi'] = 300\n",
    "plt.rcParams['figure.facecolor'] = '#f8f8f8'\n",
    "\n",
    "pd.set_option('display.max_columns', None)"
   ]
  },
  {
   "cell_type": "code",
   "execution_count": null,
   "id": "6a61a4d1",
   "metadata": {},
   "outputs": [],
   "source": [
    "#Read percentage calculated in Absenece Attendance Calculation\n",
    "df=pd.read_pickle('../df/final_percentage.pkl')"
   ]
  },
  {
   "cell_type": "code",
   "execution_count": null,
   "id": "1d6446e5",
   "metadata": {},
   "outputs": [],
   "source": [
    "# Filter out rows where 'lessons' is greater than or equal to 1200\n",
    "df = df[df['lessons'] < 1200]\n",
    "\n",
    "# Extract the 'lessons' column for plotting\n",
    "x = df['lessons']\n",
    "\n",
    "# Create a figure and axes\n",
    "fig, ax = plt.subplots(figsize=(16, 8))\n",
    "\n",
    "# Plot a histogram of 'lessons' with specified number of bins and color\n",
    "sns.histplot(x, kde=False, bins=60, color=\"steelblue\")\n",
    "\n",
    "# Compute the histogram counts and bin edges\n",
    "counts, bin_edges = np.histogram(x, bins=60)\n",
    "\n",
    "# Compute the bin centers\n",
    "bin_centers = (bin_edges[:-1] + bin_edges[1:]) / 2\n",
    "\n",
    "# Find peaks in the histogram counts\n",
    "peaks, _ = find_peaks(counts)\n",
    "\n",
    "# Select the two highest peaks based on counts\n",
    "peaks = peaks[np.argsort(counts[peaks])][-2:]\n",
    "\n",
    "# Scatter plot the peak points on the histogram\n",
    "plt.scatter(bin_centers[peaks], counts[peaks], marker='o', color='red', zorder=10)\n",
    "\n",
    "# Set the x-axis and y-axis labels and title\n",
    "ax.set_xlabel('Number of lessons that students have in a period')\n",
    "ax.set_ylabel('Number of students with a given number of lessons')\n",
    "ax.set_title('Plot showing the number of activities that students should be present for in a year:\\nMean={:.2f}, Median={:.2f}, Standard Deviation={:.2f}'.format(*df['lessons'].describe()[['mean', '50%', 'std']]))\n",
    "\n",
    "# Set the x-axis tick values\n",
    "t_list = [0, 220, 440, 660, 880, 1200]\n",
    "plt.xticks(t_list)\n",
    "\n",
    "# Save the data to a pickle file\n",
    "x.to_pickle('figures/lessons_pr_year.pkl')\n",
    "\n",
    "# Save the figure as a PDF file\n",
    "plt.savefig('figures/lessons_pr_year.pdf')\n",
    "\n",
    "# Display the plot\n",
    "plt.show()"
   ]
  },
  {
   "cell_type": "code",
   "execution_count": null,
   "id": "0ab94186",
   "metadata": {},
   "outputs": [],
   "source": [
    "len(df[df['lessons']<1200])/len(df)"
   ]
  },
  {
   "cell_type": "code",
   "execution_count": null,
   "id": "4f3a21b0",
   "metadata": {},
   "outputs": [],
   "source": [
    "#Plot the Absence each student is rewarded in a semester\n",
    "# Filter out rows where 'absence' is greater than or equal to 250\n",
    "mg = df.loc[df['absence'] < 250]\n",
    "\n",
    "# Extract the 'absence' column for plotting\n",
    "x = mg['absence']\n",
    "\n",
    "# Create a figure and axes\n",
    "fig, ax = plt.subplots(figsize=(16, 8))\n",
    "\n",
    "# Plot a histogram of 'absence' with specified number of bins and color\n",
    "sns.histplot(x, bins=85, color='steelblue')\n",
    "\n",
    "# Set the x-axis and y-axis labels and title\n",
    "ax.set_xlabel('Total lessons missed through absence in a period')\n",
    "ax.set_ylabel('Number of students with said absence')\n",
    "ax.set_title('Plot showing the number of activities that students have registered absence for in a period:\\nMean={:.2f}, Median={:.2f}, Standard Deviation={:.2f}'.format(*mg['absence'].describe()[['mean', '50%', 'std']]))\n",
    "\n",
    "# Save the filtered data to a pickle file\n",
    "mg.to_pickle('figures/fraver_pr_year.pkl')\n",
    "\n",
    "# Adjust the subplot layout for better spacing\n",
    "plt.tight_layout()\n",
    "\n",
    "# Save the figure as a PDF file\n",
    "plt.savefig('figures/fraver_pr_year.pdf')\n",
    "\n",
    "# Display the plot\n",
    "plt.show()\n"
   ]
  },
  {
   "cell_type": "code",
   "execution_count": null,
   "id": "78887afb",
   "metadata": {},
   "outputs": [],
   "source": [
    "#Plot the percentage absence \n",
    "x=mg['percentage']\n",
    "fig,ax=plt.subplots(figsize=(16,8))\n",
    "\n",
    "sns.histplot(x,bins=85,color='steelblue')\n",
    "\n",
    "\n",
    "ax.set_xlabel('Percentage absence in a period of study')\n",
    "ax.set_ylabel('Number of students with said percentage absence')\n",
    "ax.set_title('The  percentage of absence that students have in a period: Mean={:.2f}, Median={:.2f}, Standard Deviation={:.2f}'.format(*mg['percentage'].describe()[['mean',\n",
    "                                                                                                             '50%',\n",
    "                                                                                                             'std']]))\n",
    "mg.to_pickle('figures/percent_absence.pkl')\n",
    "plt.tight_layout()\n",
    "plt.savefig('figures/percent_absence.pdf')\n",
    "plt.show()"
   ]
  },
  {
   "cell_type": "code",
   "execution_count": null,
   "id": "e50fe22b",
   "metadata": {},
   "outputs": [],
   "source": [
    "mg.to_pickle('../df/lecture_absence.pkl')"
   ]
  },
  {
   "cell_type": "code",
   "execution_count": null,
   "id": "3dc5936e",
   "metadata": {},
   "outputs": [],
   "source": [
    "elev=pd.read_pickle('../data/clean_reg.pkl')"
   ]
  },
  {
   "cell_type": "code",
   "execution_count": null,
   "id": "9dc2452e",
   "metadata": {},
   "outputs": [],
   "source": [
    "#Read students\n",
    "filepath='../data/macom_elever.sas7bdat'\n",
    "elever =pd.read_sas(filepath, format='sas7bdat')\n",
    "\n",
    "#We don't use Coesa and optagelses_kriterie only has 1 value. \n",
    "elever=elever.drop(columns=['CoesaFormaal','CoesaFormaalVersion','Optagelses_kriterie'])\n",
    "\n",
    "elever['start_year']=elever['startdato'].dt.year\n",
    "\n",
    "#Read info on students reason for departure to find relationship between not finishing and absence \n",
    "filepath='../data/umo_afgangsaarsager.sas7bdat'\n",
    "aa =pd.read_sas(filepath, format='sas7bdat',encoding='iso-8859-1')\n",
    "\n",
    "#Merge the reasons to the students\n",
    "dep=pd.merge(elever,aa,left_on='AfgangsAarsag',right_on='AfgangsAarsag')\n",
    "\n",
    "#Keep only relevant rows\n",
    "dep=dep[['elev_id','Betegnelse','AfgangsAarsag']]\n",
    "\n",
    "#Merge reasons to our absence overview\n",
    "new_merge=pd.merge(mg,dep,on=['elev_id'],how='left')"
   ]
  },
  {
   "cell_type": "code",
   "execution_count": null,
   "id": "dc1686de",
   "metadata": {},
   "outputs": [],
   "source": [
    "#Keep rows with a reason for departure\n",
    "review=new_merge[~new_merge['AfgangsAarsag'].isna()].copy()\n",
    "review['Betegnelse']=review['Betegnelse'].astype(str)\n",
    "\n",
    "\n",
    "# sort the DataFrame by 'id' and 'datetime'\n",
    "review = review.sort_values(['elev_id', 'startdato'])\n",
    "\n",
    "# drop duplicates on the 'id' column and keep the instance with the latest 'datetime' value\n",
    "review = review.drop_duplicates(subset='elev_id', keep='last')"
   ]
  },
  {
   "cell_type": "code",
   "execution_count": null,
   "id": "5ed9490a",
   "metadata": {},
   "outputs": [],
   "source": [
    "# create a new column to represent the target variable, indicating whether 'Afgangsaarsag' is not equal to 17 or 29\n",
    "# This represents not finishing\n",
    "review['target'] = ((review['AfgangsAarsag'] != 17) & (review['AfgangsAarsag'] != 29)).astype(int)\n",
    "\n",
    "# create a logistic regression plot using seaborn to show relationship\n",
    "plt.figure(figsize=(12, 8))\n",
    "sns.regplot(x='percentage', y='target', data=review, logistic=True, ci=100, color='steelblue', label='Logistic Regression', line_kws={'linewidth': 5})\n",
    "plt.xlabel('Percentage Absence')\n",
    "plt.ylabel('Chance of chance finishing education')\n",
    "plt.title('Logistic Regression of Absence Percentage on Finishing Education')\n",
    "\n",
    "plt.savefig('figures/logistic_absence.pdf')\n",
    "review.to_pickle('figures/logistic_absence.pkl')\n",
    "plt.show()\n"
   ]
  }
 ],
 "metadata": {
  "kernelspec": {
   "display_name": "Python 3 (ipykernel)",
   "language": "python",
   "name": "python3"
  },
  "language_info": {
   "codemirror_mode": {
    "name": "ipython",
    "version": 3
   },
   "file_extension": ".py",
   "mimetype": "text/x-python",
   "name": "python",
   "nbconvert_exporter": "python",
   "pygments_lexer": "ipython3",
   "version": "3.9.16"
  }
 },
 "nbformat": 4,
 "nbformat_minor": 5
}
