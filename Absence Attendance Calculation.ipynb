{
 "cells": [
  {
   "cell_type": "markdown",
   "id": "e935007b",
   "metadata": {},
   "source": [
    "### This presents the matching of students to lessons \n",
    "The code for utilizing this data can be found in the notebook 'Exploring Absence'"
   ]
  },
  {
   "cell_type": "code",
   "execution_count": null,
   "id": "dba163d8",
   "metadata": {},
   "outputs": [],
   "source": [
    "import pandas as pd\n",
    "import numpy as np\n",
    "import matplotlib.pyplot as plt\n",
    "import sas7bdat\n",
    "import seaborn as sns"
   ]
  },
  {
   "cell_type": "code",
   "execution_count": null,
   "id": "4a862437",
   "metadata": {},
   "outputs": [],
   "source": [
    "# Set the ggplot style\n",
    "plt.style.use('ggplot')\n",
    "\n",
    "# Add Whitegrid style\n",
    "plt.style.use('seaborn-whitegrid')\n",
    "\n",
    "# Set the rest of the style settings\n",
    "plt.rcParams['font.family'] = 'serif'\n",
    "plt.rcParams['font.size'] = 14\n",
    "plt.rcParams['axes.labelsize'] = 13\n",
    "plt.rcParams['axes.titlesize'] = 16\n",
    "plt.rcParams['xtick.labelsize'] = 11\n",
    "plt.rcParams['ytick.labelsize'] = 11\n",
    "plt.rcParams['axes.titleweight'] = 'bold'\n",
    "plt.rcParams['axes.spines.top'] = False\n",
    "plt.rcParams['axes.spines.right'] = False\n",
    "plt.rcParams['axes.prop_cycle'] = plt.cycler('color', plt.cm.Set1.colors)\n",
    "\n",
    "plt.rcParams['figure.figsize'] = [10, 6]\n",
    "plt.rcParams['figure.dpi'] = 200\n",
    "plt.rcParams['savefig.dpi'] = 300\n",
    "plt.rcParams['figure.facecolor'] = '#f8f8f8'"
   ]
  },
  {
   "cell_type": "code",
   "execution_count": null,
   "id": "cad281c8",
   "metadata": {},
   "outputs": [],
   "source": [
    "#Base knowledge of students in a given period\n",
    "elev=pd.read_pickle('../data/clean_reg.pkl')\n",
    "elev.rename(columns={'INSTNR':'instnr'},inplace=True)"
   ]
  },
  {
   "cell_type": "code",
   "execution_count": null,
   "id": "6adbcf62",
   "metadata": {},
   "outputs": [],
   "source": [
    "#All lessons in the period of study\n",
    "absence=pd.read_pickle('../df/all_lessons.pkl')"
   ]
  },
  {
   "cell_type": "code",
   "execution_count": null,
   "id": "c432e35f",
   "metadata": {},
   "outputs": [],
   "source": [
    "# Filter the DataFrame to include only lectures starting between 8 and 16\n",
    "filtered_absence = absence[(absence['start_time'].dt.hour >= 8) & (absence['start_time'].dt.hour <= 15)]\n",
    "\n",
    "# Create a new column to indicate if absence is above zero (1) or not (0)\n",
    "filtered_absence['absence_above_zero'] = filtered_absence['FravaersProcent'].apply(lambda x: 1 if x > 0 else 0)\n",
    "\n",
    "# Group the data by the time of day and calculate the probability of absence being above zero\n",
    "prob_df = filtered_absence.groupby(filtered_absence['start_time'].dt.hour)['absence_above_zero'].mean()"
   ]
  },
  {
   "cell_type": "code",
   "execution_count": null,
   "id": "3a6bd479",
   "metadata": {},
   "outputs": [],
   "source": [
    "# Create the line plot of the probability of being absent\n",
    "plt.plot(prob_df.index, prob_df.values)\n",
    "\n",
    "# Set the labels and title\n",
    "plt.xlabel('Time of Day')\n",
    "plt.ylabel('Probability of Absence Above Zero')\n",
    "plt.title('Probability of Absence Above Zero by Time of Day')\n",
    "\n",
    "plt.savefig('figures/prob_absence_start_day.pdf')\n",
    "\n",
    "# Save the DataFrame as a pickle file\n",
    "prob_df.to_pickle('figures/prob_absence_start_day.pkl')\n",
    "\n",
    "# Show the plot\n",
    "plt.show()\n"
   ]
  },
  {
   "cell_type": "code",
   "execution_count": null,
   "id": "d065785a",
   "metadata": {},
   "outputs": [],
   "source": [
    "#Load lessons to add data to the absence\n",
    "lessons=pd.read_pickle('../data/lektioner.pkl')\n",
    "\n",
    "#Only keep rows with students from our study\n",
    "absence=absence[absence['elev_id'].isin(elev['elev_id'])]\n",
    "\n",
    "#Keep relevant columns\n",
    "lessons=lessons[['inst_nr','lektions_nr','start_time','end_time']]\n",
    "\n",
    "#Rename to match other table\n",
    "elev.rename(columns={'instnr':'inst_nr'},inplace=True)\n",
    "\n",
    "#Merge absence and lessons\n",
    "absence=absence.merge(lessons,on=['lektions_nr','inst_nr','start_time'],how='left')\n",
    "\n",
    "#Merge to add student metadata\n",
    "elev=elev.merge(absence,on=['elev_id','inst_nr'])"
   ]
  },
  {
   "cell_type": "code",
   "execution_count": null,
   "id": "3a51342e",
   "metadata": {},
   "outputs": [],
   "source": [
    "#Filter to only keep students-lesson matching that happens within the period the student is enrolled\n",
    "elev=elev[((elev['start_time'] >= elev['startdato']) & (elev['start_time'] <= elev['slutdato'])) & \n",
    "          ((elev['end_time'] >= elev['startdato']) & (elev['end_time'] <= elev['slutdato']))]\n",
    "\n",
    "#Get absence as percentage\n",
    "elev['FravaersProcent']=elev['FravaersProcent']/100\n",
    "\n",
    "elev.drop_duplicates(inplace=True)\n",
    "\n",
    "#Save complete absence overview\n",
    "elev.to_pickle('../df/semester_absence_complete.pkl')"
   ]
  },
  {
   "cell_type": "code",
   "execution_count": null,
   "id": "1949a6e4",
   "metadata": {},
   "outputs": [],
   "source": [
    "#Get the metadata for each institution to undestand difference between students and their educational institution. \n",
    "grouped=(elev.groupby(['elev_id','inst_nr','startdato','slutdato','step'],sort=False)\n",
    "              .agg(**{'lessons': ('lektions_nr','count'),'absence':('FravaersProcent','sum')})\n",
    "              .reset_index()\n",
    "              )\n",
    "\n",
    "#Get the percentage absence for institutions so that we can offset in our regression\n",
    "grouped['percentage']=grouped['absence']/grouped['lessons']\n",
    "\n",
    "#Save institutional absence\n",
    "grouped.to_pickle('../df/final_percentage.pkl')"
   ]
  },
  {
   "cell_type": "code",
   "execution_count": null,
   "id": "6a1e3d00",
   "metadata": {},
   "outputs": [],
   "source": []
  },
  {
   "cell_type": "code",
   "execution_count": null,
   "id": "b0a5fafd",
   "metadata": {},
   "outputs": [],
   "source": [
    "#Get the number of students for each lesson and the absence\n",
    "students_lesson=(elev.groupby(['lektions_nr','inst_nr'],sort=False)\n",
    "              .agg(**{'students': ('elev_id','nunique'),'absence':('FravaersProcent','sum')})\n",
    "              .reset_index()\n",
    "              )\n",
    "\n",
    "#Keep realistic group sizes\n",
    "temp=students_lesson[students_lesson['students'] < 35]\n",
    "temp=temp[temp['students']>10]\n",
    "\n",
    "#Save the number of students pr. lesson\n",
    "temp.to_pickle('../df/lessons_number_students.pkl')"
   ]
  },
  {
   "cell_type": "code",
   "execution_count": null,
   "id": "583513ad",
   "metadata": {},
   "outputs": [],
   "source": [
    "#Keep only relevant columns to find average group size pr. student\n",
    "elev.drop(columns=['join_reason','depart_reason','FravaersProcent','start_time','end_time'],inplace=True)\n",
    "\n",
    "\n",
    "#Merge students with their lessons\n",
    "group_size=elev.merge(temp,on=['lektions_nr','inst_nr'])\n",
    "\n",
    "#Group by students, start,end and get their average group size \n",
    "group_sizes=(group_size.groupby(['elev_id','inst_nr','startdato','slutdato','step'],sort=False)\n",
    "              .agg(**{'students': ('students','mean')})\n",
    "              .reset_index()\n",
    "              )\n",
    "\n",
    "#Save student group size overview \n",
    "group_sizes.to_pickle('../df/groups_size.pkl')"
   ]
  },
  {
   "cell_type": "code",
   "execution_count": null,
   "id": "57a8af74",
   "metadata": {},
   "outputs": [],
   "source": []
  },
  {
   "cell_type": "code",
   "execution_count": null,
   "id": "6adda5fd",
   "metadata": {},
   "outputs": [],
   "source": []
  },
  {
   "cell_type": "code",
   "execution_count": null,
   "id": "6e3c32c0",
   "metadata": {},
   "outputs": [],
   "source": []
  }
 ],
 "metadata": {
  "kernelspec": {
   "display_name": "Python 3 (ipykernel)",
   "language": "python",
   "name": "python3"
  },
  "language_info": {
   "codemirror_mode": {
    "name": "ipython",
    "version": 3
   },
   "file_extension": ".py",
   "mimetype": "text/x-python",
   "name": "python",
   "nbconvert_exporter": "python",
   "pygments_lexer": "ipython3",
   "version": "3.9.16"
  }
 },
 "nbformat": 4,
 "nbformat_minor": 5
}
