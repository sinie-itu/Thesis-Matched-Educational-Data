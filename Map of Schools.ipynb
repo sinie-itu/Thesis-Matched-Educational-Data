{
 "cells": [
  {
   "attachments": {},
   "cell_type": "markdown",
   "id": "32d11dcb",
   "metadata": {},
   "source": [
    "### In this Notebook we create a map showing the average grade of schools"
   ]
  },
  {
   "cell_type": "code",
   "execution_count": null,
   "id": "e853920e",
   "metadata": {},
   "outputs": [],
   "source": [
    "import pandas as pd\n",
    "import folium as fm\n",
    "\n",
    "import matplotlib.pyplot as plt\n",
    "import geopandas as gpd\n",
    "from mpl_toolkits.axes_grid1 import make_axes_locatable\n",
    "import openpyxl\n",
    "\n",
    "\n",
    "import matplotlib as mpl\n",
    "\n",
    "mpl.style.use('seaborn-whitegrid')\n",
    "\n",
    "mpl.rcParams['font.family'] = 'serif'\n",
    "mpl.rcParams['font.size'] = 14\n",
    "mpl.rcParams['axes.titleweight'] = 'bold'\n",
    "\n",
    "plt.rcParams['savefig.dpi'] = 300\n",
    "plt.rcParams['figure.facecolor'] = '#f8f8f8'"
   ]
  },
  {
   "cell_type": "code",
   "execution_count": null,
   "id": "9a6df878",
   "metadata": {},
   "outputs": [],
   "source": [
    "#Grades and school information\n",
    "fun=pd.read_excel('meta_data.xlsx')"
   ]
  },
  {
   "cell_type": "code",
   "execution_count": null,
   "id": "2d06411d",
   "metadata": {},
   "outputs": [],
   "source": [
    "import geopandas as gpd\n",
    "gdf=gpd.read_file('custom.geo.json')\n",
    "gdf=gdf[gdf['admin']=='Denmark']"
   ]
  },
  {
   "cell_type": "code",
   "execution_count": null,
   "id": "94d67a46",
   "metadata": {},
   "outputs": [],
   "source": [
    "from shapely.geometry import Point\n",
    "\n",
    "# Create geographic points for each school location\n",
    "geo = [Point(xy) for xy in zip(fun['long'], fun['lat'])]\n",
    "\n",
    "# Create a GeoDataFrame combining the dataframe 'fun' and the geographic points, also setting the coordinate reference system (CRS)\n",
    "geo_data = gpd.GeoDataFrame(fun, geometry=geo, crs=\"EPSG:4326\")\n",
    "\n",
    "# Initialize MinMaxScaler for normalization of avg_grade\n",
    "scaler = MinMaxScaler(feature_range=(1, 2))\n",
    "\n",
    "# Add a new column 'scaled_values' to the GeoDataFrame by applying MinMaxScaler to the avg_grade\n",
    "geo_data['scaled_values'] = scaler.fit_transform(geo_data['avg_grade'].values.reshape(-1, 1))\n",
    "\n",
    "# Set colormap and normalize coloring based on min and max values of avg_grade\n",
    "cmap = plt.get_cmap('plasma')\n",
    "norm = mcolors.Normalize(vmin=geo_data['avg_grade'].min(), vmax=geo_data['avg_grade'].max())\n",
    "\n",
    "# Obtain colors for all points\n",
    "colors = cmap(norm(geo_data['avg_grade']))\n",
    "\n",
    "# Create a scatterplot using coordinates, scaled sizes and colors\n",
    "fig, ax = plt.subplots(figsize=(16, 12))\n",
    "\n",
    "# Plot the map\n",
    "gdf.plot(ax=ax)\n",
    "\n",
    "# Set properties of the scatter plot\n",
    "ax.scatter(geo_data['lat'], geo_data['long'], s=geo_data['scaled_values'] * 50,\n",
    "           color=colors, alpha=0.7, edgecolors='k', linewidths=0.5)\n",
    "\n",
    "# Create a colorbar for visual reference\n",
    "sm = plt.cm.ScalarMappable(cmap=cmap, norm=norm)\n",
    "sm.set_array([])\n",
    "cbar = plt.colorbar(sm, ax=ax, orientation='horizontal', pad=0.03, fraction=0.05)\n",
    "cbar.set_label('Average Grade')\n",
    "\n",
    "# Set the title of the plot\n",
    "ax.set_title('Map of High Schools in Denmark with Grade Average')\n",
    "\n",
    "# Adjust subplot parameters to give\n",
    "plt.tight_layout()\n",
    "\n",
    "plt.savefig('map.pdf')\n",
    "plt.show()"
   ]
  }
 ],
 "metadata": {
  "kernelspec": {
   "display_name": "Python 3 (ipykernel)",
   "language": "python",
   "name": "python3"
  },
  "language_info": {
   "codemirror_mode": {
    "name": "ipython",
    "version": 3
   },
   "file_extension": ".py",
   "mimetype": "text/x-python",
   "name": "python",
   "nbconvert_exporter": "python",
   "pygments_lexer": "ipython3",
   "version": "3.9.12"
  }
 },
 "nbformat": 4,
 "nbformat_minor": 5
}
